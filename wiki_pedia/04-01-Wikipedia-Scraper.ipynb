{
 "cells": [
  {
   "cell_type": "code",
   "execution_count": 1,
   "id": "7dff8180",
   "metadata": {},
   "outputs": [],
   "source": [
    "from selenium import webdriver\n",
    "from selenium.webdriver.chrome.service import Service\n",
    "from selenium.webdriver.common.by import By\n",
    "\n",
    "from settings import CHROMEDRIVER_PATH, WIKIPEDIA_URL\n",
    "\n",
    "service = Service(executable_path=CHROMEDRIVER_PATH)\n",
    "\n",
    "driver = webdriver.Chrome(service=service)"
   ]
  },
  {
   "cell_type": "code",
   "execution_count": 2,
   "id": "b5ceab87-7d7e-446c-8311-6a7465e6ea6a",
   "metadata": {},
   "outputs": [],
   "source": [
    "driver.get(WIKIPEDIA_URL)"
   ]
  },
  {
   "cell_type": "code",
   "execution_count": 3,
   "id": "3680bfa7",
   "metadata": {},
   "outputs": [],
   "source": [
    "# Collect links by section\n",
    "# From today's article\n",
    "FTA_CSS_LOCATOR = 'div#mp-tfa'\n",
    "# In the news\n",
    "ITN_CSS_LOCATOR = 'div#mp-itn'\n",
    "# Did you know ...\n",
    "DYK_CSS_LOCATOR = 'div#mp-dyk'\n",
    "# On this day\n",
    "OTD_CSS_LOCATOR = 'div#mp-otd'\n",
    "\n",
    "locator_list = [FTA_CSS_LOCATOR, ITN_CSS_LOCATOR, DYK_CSS_LOCATOR, OTD_CSS_LOCATOR]"
   ]
  },
  {
   "cell_type": "code",
   "execution_count": 4,
   "id": "074fe004",
   "metadata": {},
   "outputs": [],
   "source": [
    "# Initialize dictionary of links\n",
    "link_dictionary = {}"
   ]
  },
  {
   "cell_type": "code",
   "execution_count": 5,
   "id": "203ca416",
   "metadata": {},
   "outputs": [],
   "source": [
    "for locator in locator_list:\n",
    "    # Find the right div\n",
    "    div_element = driver.find_element(By.CSS_SELECTOR, locator)\n",
    "    # Empty list for storing links\n",
    "    info_list = []\n",
    "    for link in div_element.find_elements(By.TAG_NAME, 'a'):\n",
    "        # Get relevant information from each link\n",
    "        info_dict = {\n",
    "            'title': link.get_attribute('title'),\n",
    "            'text': link.text,\n",
    "            'href': link.get_attribute('href')\n",
    "        }\n",
    "        info_list.append(info_dict)\n",
    "    \n",
    "    # Set key, value for div information\n",
    "    link_dictionary[locator] = info_list"
   ]
  },
  {
   "cell_type": "code",
   "execution_count": 6,
   "id": "7aec8fc5",
   "metadata": {},
   "outputs": [
    {
     "data": {
      "text/plain": [
       "[{'title': \"St\\xa0Oswald's Church, Winwick\",\n",
       "  'text': '',\n",
       "  'href': 'https://en.wikipedia.org/wiki/File:St_Oswald%27s_Church,_Winwick.jpg'},\n",
       " {'title': 'Battle of Winwick',\n",
       "  'text': 'Battle of Winwick',\n",
       "  'href': 'https://en.wikipedia.org/wiki/Battle_of_Winwick'},\n",
       " {'title': 'Cavalier',\n",
       "  'text': 'Royalist',\n",
       "  'href': 'https://en.wikipedia.org/wiki/Cavalier'},\n",
       " {'title': 'Roundhead',\n",
       "  'text': 'Parliamentarian',\n",
       "  'href': 'https://en.wikipedia.org/wiki/Roundhead'},\n",
       " {'title': 'Second English Civil War',\n",
       "  'text': 'Second English Civil War',\n",
       "  'href': 'https://en.wikipedia.org/wiki/Second_English_Civil_War'},\n",
       " {'title': 'Battle of Preston (1648)',\n",
       "  'text': 'Preston',\n",
       "  'href': 'https://en.wikipedia.org/wiki/Battle_of_Preston_(1648)'},\n",
       " {'title': 'Gunpowder',\n",
       "  'text': 'powder',\n",
       "  'href': 'https://en.wikipedia.org/wiki/Gunpowder'},\n",
       " {'title': 'Winwick, Cheshire',\n",
       "  'text': 'Winwick',\n",
       "  'href': 'https://en.wikipedia.org/wiki/Winwick,_Cheshire'},\n",
       " {'title': 'Flanking maneuver',\n",
       "  'text': 'flank march',\n",
       "  'href': 'https://en.wikipedia.org/wiki/Flanking_maneuver'},\n",
       " {'title': \"St Oswald's Church, Winwick\",\n",
       "  'text': 'Winwick church',\n",
       "  'href': 'https://en.wikipedia.org/wiki/St_Oswald%27s_Church,_Winwick'},\n",
       " {'title': 'Warrington',\n",
       "  'text': 'Warrington',\n",
       "  'href': 'https://en.wikipedia.org/wiki/Warrington'},\n",
       " {'title': 'Uttoxeter',\n",
       "  'text': 'Uttoxeter',\n",
       "  'href': 'https://en.wikipedia.org/wiki/Uttoxeter'},\n",
       " {'title': 'Battle of Winwick',\n",
       "  'text': 'Full article...',\n",
       "  'href': 'https://en.wikipedia.org/wiki/Battle_of_Winwick'},\n",
       " {'title': 'Kes (Star Trek)',\n",
       "  'text': 'Kes (Star Trek)',\n",
       "  'href': 'https://en.wikipedia.org/wiki/Kes_(Star_Trek)'},\n",
       " {'title': 'Pan Am Flight 214',\n",
       "  'text': 'Pan Am Flight 214',\n",
       "  'href': 'https://en.wikipedia.org/wiki/Pan_Am_Flight_214'},\n",
       " {'title': 'Snooker',\n",
       "  'text': 'Snooker',\n",
       "  'href': 'https://en.wikipedia.org/wiki/Snooker'},\n",
       " {'title': \"Wikipedia:Today's featured article/August 2024\",\n",
       "  'text': 'Archive',\n",
       "  'href': 'https://en.wikipedia.org/wiki/Wikipedia:Today%27s_featured_article/August_2024'},\n",
       " {'title': 'mail:daily-article-l',\n",
       "  'text': 'By email',\n",
       "  'href': 'https://lists.wikimedia.org/postorius/lists/daily-article-l.lists.wikimedia.org/'},\n",
       " {'title': 'Wikipedia:Featured articles',\n",
       "  'text': 'More featured articles',\n",
       "  'href': 'https://en.wikipedia.org/wiki/Wikipedia:Featured_articles'},\n",
       " {'title': \"Wikipedia:About Today's featured article\",\n",
       "  'text': 'About',\n",
       "  'href': 'https://en.wikipedia.org/wiki/Wikipedia:About_Today%27s_featured_article'}]"
      ]
     },
     "execution_count": 6,
     "metadata": {},
     "output_type": "execute_result"
    }
   ],
   "source": [
    "# Check data collected\n",
    "link_dictionary[FTA_CSS_LOCATOR]"
   ]
  },
  {
   "cell_type": "code",
   "execution_count": 8,
   "id": "196d849c",
   "metadata": {},
   "outputs": [
    {
     "name": "stdout",
     "output_type": "stream",
     "text": [
      "div#mp-tfa - 20 links\n",
      "div#mp-itn - 30 links\n",
      "div#mp-dyk - 19 links\n",
      "div#mp-otd - 34 links\n"
     ]
    }
   ],
   "source": [
    "# Count of links by section\n",
    "for key, value in link_dictionary.items():\n",
    "    print(f'{key} - {len(value)} links')"
   ]
  },
  {
   "cell_type": "code",
   "execution_count": 7,
   "id": "7cdf0467",
   "metadata": {},
   "outputs": [],
   "source": [
    "# Quit driver\n",
    "driver.quit()"
   ]
  }
 ],
 "metadata": {
  "kernelspec": {
   "display_name": "Python 3 (ipykernel)",
   "language": "python",
   "name": "python3"
  },
  "language_info": {
   "codemirror_mode": {
    "name": "ipython",
    "version": 3
   },
   "file_extension": ".py",
   "mimetype": "text/x-python",
   "name": "python",
   "nbconvert_exporter": "python",
   "pygments_lexer": "ipython3",
   "version": "3.12.4"
  }
 },
 "nbformat": 4,
 "nbformat_minor": 5
}
